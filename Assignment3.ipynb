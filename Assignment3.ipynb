{
 "cells": [
  {
   "cell_type": "markdown",
   "id": "cf037f12-ee44-4e7a-9bf1-da8327d98110",
   "metadata": {
    "jp-MarkdownHeadingCollapsed": true
   },
   "source": [
    "# Task 1: Get the dataset on screen"
   ]
  },
  {
   "cell_type": "code",
   "execution_count": 9,
   "id": "cb4b76d5-cd4a-4b83-8c14-430c4aed28a0",
   "metadata": {},
   "outputs": [
    {
     "name": "stdout",
     "output_type": "stream",
     "text": [
      "<class 'pandas.core.frame.DataFrame'>\n",
      "RangeIndex: 748 entries, 0 to 747\n",
      "Data columns (total 5 columns):\n",
      " #   Column                       Non-Null Count  Dtype  \n",
      "---  ------                       --------------  -----  \n",
      " 0   months_since_last_donation   748 non-null    float64\n",
      " 1   total_number_of_donations    748 non-null    float64\n",
      " 2   total_blood_donated          748 non-null    float64\n",
      " 3   months_since_first_donation  748 non-null    float64\n",
      " 4   class                        748 non-null    int64  \n",
      "dtypes: float64(4), int64(1)\n",
      "memory usage: 29.3 KB\n"
     ]
    },
    {
     "data": {
      "text/html": [
       "<div>\n",
       "<style scoped>\n",
       "    .dataframe tbody tr th:only-of-type {\n",
       "        vertical-align: middle;\n",
       "    }\n",
       "\n",
       "    .dataframe tbody tr th {\n",
       "        vertical-align: top;\n",
       "    }\n",
       "\n",
       "    .dataframe thead th {\n",
       "        text-align: right;\n",
       "    }\n",
       "</style>\n",
       "<table border=\"1\" class=\"dataframe\">\n",
       "  <thead>\n",
       "    <tr style=\"text-align: right;\">\n",
       "      <th></th>\n",
       "      <th>months_since_last_donation</th>\n",
       "      <th>total_number_of_donations</th>\n",
       "      <th>total_blood_donated</th>\n",
       "      <th>months_since_first_donation</th>\n",
       "      <th>class</th>\n",
       "    </tr>\n",
       "  </thead>\n",
       "  <tbody>\n",
       "    <tr>\n",
       "      <th>count</th>\n",
       "      <td>748.000000</td>\n",
       "      <td>748.000000</td>\n",
       "      <td>748.000000</td>\n",
       "      <td>748.000000</td>\n",
       "      <td>748.000000</td>\n",
       "    </tr>\n",
       "    <tr>\n",
       "      <th>mean</th>\n",
       "      <td>9.506684</td>\n",
       "      <td>5.514706</td>\n",
       "      <td>1378.676471</td>\n",
       "      <td>34.282086</td>\n",
       "      <td>0.237968</td>\n",
       "    </tr>\n",
       "    <tr>\n",
       "      <th>std</th>\n",
       "      <td>8.095396</td>\n",
       "      <td>5.839307</td>\n",
       "      <td>1459.826781</td>\n",
       "      <td>24.376714</td>\n",
       "      <td>0.426124</td>\n",
       "    </tr>\n",
       "    <tr>\n",
       "      <th>min</th>\n",
       "      <td>0.000000</td>\n",
       "      <td>1.000000</td>\n",
       "      <td>250.000000</td>\n",
       "      <td>2.000000</td>\n",
       "      <td>0.000000</td>\n",
       "    </tr>\n",
       "    <tr>\n",
       "      <th>25%</th>\n",
       "      <td>2.750000</td>\n",
       "      <td>2.000000</td>\n",
       "      <td>500.000000</td>\n",
       "      <td>16.000000</td>\n",
       "      <td>0.000000</td>\n",
       "    </tr>\n",
       "    <tr>\n",
       "      <th>50%</th>\n",
       "      <td>7.000000</td>\n",
       "      <td>4.000000</td>\n",
       "      <td>1000.000000</td>\n",
       "      <td>28.000000</td>\n",
       "      <td>0.000000</td>\n",
       "    </tr>\n",
       "    <tr>\n",
       "      <th>75%</th>\n",
       "      <td>14.000000</td>\n",
       "      <td>7.000000</td>\n",
       "      <td>1750.000000</td>\n",
       "      <td>50.000000</td>\n",
       "      <td>0.000000</td>\n",
       "    </tr>\n",
       "    <tr>\n",
       "      <th>max</th>\n",
       "      <td>74.000000</td>\n",
       "      <td>50.000000</td>\n",
       "      <td>12500.000000</td>\n",
       "      <td>98.000000</td>\n",
       "      <td>1.000000</td>\n",
       "    </tr>\n",
       "  </tbody>\n",
       "</table>\n",
       "</div>"
      ],
      "text/plain": [
       "       months_since_last_donation  total_number_of_donations  \\\n",
       "count                  748.000000                 748.000000   \n",
       "mean                     9.506684                   5.514706   \n",
       "std                      8.095396                   5.839307   \n",
       "min                      0.000000                   1.000000   \n",
       "25%                      2.750000                   2.000000   \n",
       "50%                      7.000000                   4.000000   \n",
       "75%                     14.000000                   7.000000   \n",
       "max                     74.000000                  50.000000   \n",
       "\n",
       "       total_blood_donated  months_since_first_donation       class  \n",
       "count           748.000000                   748.000000  748.000000  \n",
       "mean           1378.676471                    34.282086    0.237968  \n",
       "std            1459.826781                    24.376714    0.426124  \n",
       "min             250.000000                     2.000000    0.000000  \n",
       "25%             500.000000                    16.000000    0.000000  \n",
       "50%            1000.000000                    28.000000    0.000000  \n",
       "75%            1750.000000                    50.000000    0.000000  \n",
       "max           12500.000000                    98.000000    1.000000  "
      ]
     },
     "execution_count": 9,
     "metadata": {},
     "output_type": "execute_result"
    }
   ],
   "source": [
    "import pandas as pd\n",
    "# read the dataset as pd dataform\n",
    "base='blood_transfusion.csv'\n",
    "mydata = pd.read_csv(base)\n",
    "df = pd.DataFrame(data=mydata)\n",
    "# check the info of the dataset\n",
    "df.info()\n",
    "df.describe()"
   ]
  },
  {
   "cell_type": "markdown",
   "id": "6bb69722-f00e-44c1-be78-144e5848155d",
   "metadata": {},
   "source": [
    "From above, we obverse that \n",
    "1. no missing variable  \n",
    "2. 5 variable in total. 4 of them is numerical, 1 is the Nominal"
   ]
  },
  {
   "cell_type": "code",
   "execution_count": 21,
   "id": "6ae269aa-7c36-43b5-a692-f45dba0c7bef",
   "metadata": {},
   "outputs": [
    {
     "data": {
      "image/png": "[encoded data removed]",
      "text/plain": [
       "<Figure size 640x480 with 1 Axes>"
      ]
     },
     "metadata": {},
     "output_type": "display_data"
    }
   ],
   "source": [
    "# visualize the data\n",
    "import matplotlib.pyplot as plt\n",
    "\n",
    "# Separate the data into two groups based on the 'class' column\n",
    "class_0 = df[df[\"class\"] == 0]\n",
    "class_1 = df[df[\"class\"] == 1]\n",
    "\n",
    "# plot for class 0\n",
    "plt.scatter(class_0[\"months_since_last_donation\"], class_0[\"months_since_first_donation\"], \n",
    "            color='red', label='0')\n",
    "# plot for class 1\n",
    "plt.scatter(class_1[\"months_since_last_donation\"], class_1[\"months_since_first_donation\"], \n",
    "            color='blue', label='1')\n",
    "\n",
    "\n",
    "plt.xlabel(\"Months Since Last Donation\")\n",
    "plt.ylabel(\"Months Since First Donation\")\n",
    "plt.legend(title=\"Class\")\n",
    "plt.show()"
   ]
  },
  {
   "cell_type": "code",
   "execution_count": null,
   "id": "d7759600-3746-4acc-a18f-3270694d17f7",
   "metadata": {},
   "outputs": [],
   "source": []
  },
  {
   "cell_type": "markdown",
   "id": "01021666-be8c-452d-89e0-6fed05287d3c",
   "metadata": {},
   "source": [
    "# Task 3: Creating a train and test set\n",
    " Create two train-test splits of different sizes. One is 80-20, another one is 90-10"
   ]
  },
  {
   "cell_type": "code",
   "execution_count": 47,
   "id": "2c381e8d-8d59-41a2-8f6f-ece27c59ea03",
   "metadata": {},
   "outputs": [
    {
     "data": {
      "text/plain": [
       "(748, 4)"
      ]
     },
     "execution_count": 47,
     "metadata": {},
     "output_type": "execute_result"
    }
   ],
   "source": [
    "import sklearn\n",
    "from sklearn.model_selection import train_test_split\n",
    "# the target varible is the class\n",
    "y = df[\"class\"]\n",
    "y.shape\n",
    "x = df.drop(columns = [\"class\"])\n",
    "x.shape # the shape is (748,4) meaning there are 748 data points with 4 columns"
   ]
  },
  {
   "cell_type": "code",
   "execution_count": 49,
   "id": "7edae9d4-1517-4974-94f2-68a59ac7dc4b",
   "metadata": {},
   "outputs": [],
   "source": [
    "# intend to have the same result so set shuffle to be False\n",
    "# 80% of the dataset used for training, 20% of the dataset used for testing\n",
    "x_train8020, x_test8020, y_train8020, y_test8020= train_test_split(x,y, \n",
    "                                                                   test_size=0.2, train_size = 0.8, \n",
    "                                                                   random_state=11, shuffle=False)"
   ]
  },
  {
   "cell_type": "code",
   "execution_count": 52,
   "id": "585ae2b4-4f4a-48f8-8ebf-5ade412cc106",
   "metadata": {},
   "outputs": [
    {
     "data": {
      "text/plain": [
       "(598, 4)"
      ]
     },
     "execution_count": 52,
     "metadata": {},
     "output_type": "execute_result"
    }
   ],
   "source": [
    "# check the number of the data point in the training\n",
    "x_train8020.shape # the shape is (598,4) meaning there are 598 data points with 4 columns"
   ]
  },
  {
   "cell_type": "code",
   "execution_count": 57,
   "id": "c59571fd-b514-4af8-af4a-a1989f5dd100",
   "metadata": {},
   "outputs": [
    {
     "data": {
      "text/plain": [
       "(150,)"
      ]
     },
     "execution_count": 57,
     "metadata": {},
     "output_type": "execute_result"
    }
   ],
   "source": [
    "y_test8020.shape"
   ]
  },
  {
   "cell_type": "code",
   "execution_count": 55,
   "id": "f61758c5-9d99-424a-9687-12763df96d9b",
   "metadata": {},
   "outputs": [],
   "source": [
    "# intend to have the same result so set shuffle to be False\n",
    "# 90% of the dataset used for training, 10% of the dataset used for testing\n",
    "x_train9010, x_test9010, y_train9010, y_test9010 = train_test_split(x,y, \n",
    "                                                                   test_size=0.1, train_size = 0.9, \n",
    "                                                                   random_state=23, shuffle=False)"
   ]
  },
  {
   "cell_type": "code",
   "execution_count": 56,
   "id": "756bfd6c-d417-4e16-b129-b004524f556c",
   "metadata": {},
   "outputs": [
    {
     "data": {
      "text/plain": [
       "(673, 4)"
      ]
     },
     "execution_count": 56,
     "metadata": {},
     "output_type": "execute_result"
    }
   ],
   "source": [
    "# check the number of the data point in the training\n",
    "x_train9010.shape "
   ]
  },
  {
   "cell_type": "code",
   "execution_count": 58,
   "id": "a701edfd-f0c3-448e-ace7-bda717c623b9",
   "metadata": {},
   "outputs": [
    {
     "data": {
      "text/plain": [
       "(75,)"
      ]
     },
     "execution_count": 58,
     "metadata": {},
     "output_type": "execute_result"
    }
   ],
   "source": [
    "y_test9010.shape"
   ]
  },
  {
   "cell_type": "markdown",
   "id": "a14483eb-bcf6-4c22-8314-69211561c130",
   "metadata": {},
   "source": [
    "# Task 4: Classification algorithms"
   ]
  },
  {
   "cell_type": "markdown",
   "id": "76ef0adc-1a66-4ff2-a9d3-82044da873dd",
   "metadata": {},
   "source": [
    "## 4.2 Naive Bayes Classifier\n"
   ]
  },
  {
   "cell_type": "markdown",
   "id": "770f1721-93cd-49aa-8025-5a8389475b1e",
   "metadata": {},
   "source": [
    "### 80-20 splits"
   ]
  },
  {
   "cell_type": "code",
   "execution_count": 63,
   "id": "7bab526d-9772-4b5d-a987-d6ed831469ad",
   "metadata": {},
   "outputs": [],
   "source": [
    "from sklearn.naive_bayes import GaussianNB\n",
    "clf = GaussianNB()\n",
    "clf.fit(x_train8020, y_train8020)\n",
    "y_pred8020 = clf.predict(x_test8020)"
   ]
  },
  {
   "cell_type": "code",
   "execution_count": 76,
   "id": "6c9d4ee3-7441-4b69-80e1-db726e9a9220",
   "metadata": {},
   "outputs": [
    {
     "data": {
      "text/html": [
       "<div>\n",
       "<style scoped>\n",
       "    .dataframe tbody tr th:only-of-type {\n",
       "        vertical-align: middle;\n",
       "    }\n",
       "\n",
       "    .dataframe tbody tr th {\n",
       "        vertical-align: top;\n",
       "    }\n",
       "\n",
       "    .dataframe thead th {\n",
       "        text-align: right;\n",
       "    }\n",
       "</style>\n",
       "<table border=\"1\" class=\"dataframe\">\n",
       "  <thead>\n",
       "    <tr style=\"text-align: right;\">\n",
       "      <th></th>\n",
       "      <th>prediction</th>\n",
       "      <th>actual</th>\n",
       "    </tr>\n",
       "  </thead>\n",
       "  <tbody>\n",
       "    <tr>\n",
       "      <th>598</th>\n",
       "      <td>0</td>\n",
       "      <td>0</td>\n",
       "    </tr>\n",
       "    <tr>\n",
       "      <th>599</th>\n",
       "      <td>0</td>\n",
       "      <td>0</td>\n",
       "    </tr>\n",
       "    <tr>\n",
       "      <th>600</th>\n",
       "      <td>0</td>\n",
       "      <td>0</td>\n",
       "    </tr>\n",
       "    <tr>\n",
       "      <th>601</th>\n",
       "      <td>0</td>\n",
       "      <td>0</td>\n",
       "    </tr>\n",
       "    <tr>\n",
       "      <th>602</th>\n",
       "      <td>0</td>\n",
       "      <td>0</td>\n",
       "    </tr>\n",
       "    <tr>\n",
       "      <th>...</th>\n",
       "      <td>...</td>\n",
       "      <td>...</td>\n",
       "    </tr>\n",
       "    <tr>\n",
       "      <th>743</th>\n",
       "      <td>0</td>\n",
       "      <td>0</td>\n",
       "    </tr>\n",
       "    <tr>\n",
       "      <th>744</th>\n",
       "      <td>0</td>\n",
       "      <td>0</td>\n",
       "    </tr>\n",
       "    <tr>\n",
       "      <th>745</th>\n",
       "      <td>0</td>\n",
       "      <td>0</td>\n",
       "    </tr>\n",
       "    <tr>\n",
       "      <th>746</th>\n",
       "      <td>0</td>\n",
       "      <td>0</td>\n",
       "    </tr>\n",
       "    <tr>\n",
       "      <th>747</th>\n",
       "      <td>0</td>\n",
       "      <td>0</td>\n",
       "    </tr>\n",
       "  </tbody>\n",
       "</table>\n",
       "<p>150 rows × 2 columns</p>\n",
       "</div>"
      ],
      "text/plain": [
       "     prediction  actual\n",
       "598           0       0\n",
       "599           0       0\n",
       "600           0       0\n",
       "601           0       0\n",
       "602           0       0\n",
       "..          ...     ...\n",
       "743           0       0\n",
       "744           0       0\n",
       "745           0       0\n",
       "746           0       0\n",
       "747           0       0\n",
       "\n",
       "[150 rows x 2 columns]"
      ]
     },
     "execution_count": 76,
     "metadata": {},
     "output_type": "execute_result"
    }
   ],
   "source": [
    "Naive_result8020 = {'prediction': y_pred8020,\n",
    "          'actual' : y_test8020}\n",
    "Naive_result8020= pd.DataFrame(Naive_result8020)\n",
    "Naive_result8020    "
   ]
  },
  {
   "cell_type": "code",
   "execution_count": 85,
   "id": "5c0e9917-6d62-4a02-8b82-5021ee4c8a81",
   "metadata": {},
   "outputs": [
    {
     "name": "stdout",
     "output_type": "stream",
     "text": [
      "Accuracy: 0.8933333333333333\n"
     ]
    }
   ],
   "source": [
    "from sklearn.metrics import accuracy_score\n",
    "# Compare predicted labels with actual labels\n",
    "print(\"Accuracy:\", accuracy_score(y_test8020, y_pred8020))"
   ]
  },
  {
   "cell_type": "code",
   "execution_count": 78,
   "id": "91d7a274-806f-4cdc-a21e-fd959508d885",
   "metadata": {},
   "outputs": [
    {
     "name": "stdout",
     "output_type": "stream",
     "text": [
      "Classification Report:\n",
      "               precision    recall  f1-score   support\n",
      "\n",
      "           0       0.91      0.99      0.94       136\n",
      "           1       0.00      0.00      0.00        14\n",
      "\n",
      "    accuracy                           0.89       150\n",
      "   macro avg       0.45      0.49      0.47       150\n",
      "weighted avg       0.82      0.89      0.86       150\n",
      "\n"
     ]
    }
   ],
   "source": [
    "# print(\"Classification Report:\\n\", classification_report(y_test8020, y_pred8020))"
   ]
  },
  {
   "cell_type": "markdown",
   "id": "966c14f8-0f4f-4e75-b27c-dd07d3f4b040",
   "metadata": {},
   "source": [
    "### 90-10 splits"
   ]
  },
  {
   "cell_type": "code",
   "execution_count": 80,
   "id": "1b178357-efc4-419f-a139-d3f74fa818a4",
   "metadata": {},
   "outputs": [],
   "source": [
    "from sklearn.naive_bayes import GaussianNB\n",
    "clf = GaussianNB()\n",
    "clf.fit(x_train9010, y_train9010)\n",
    "y_pred9010 = clf.predict(x_test9010)"
   ]
  },
  {
   "cell_type": "code",
   "execution_count": 81,
   "id": "fe03451d-86b7-41da-aff3-0ed6d356f8cd",
   "metadata": {},
   "outputs": [
    {
     "data": {
      "text/html": [
       "<div>\n",
       "<style scoped>\n",
       "    .dataframe tbody tr th:only-of-type {\n",
       "        vertical-align: middle;\n",
       "    }\n",
       "\n",
       "    .dataframe tbody tr th {\n",
       "        vertical-align: top;\n",
       "    }\n",
       "\n",
       "    .dataframe thead th {\n",
       "        text-align: right;\n",
       "    }\n",
       "</style>\n",
       "<table border=\"1\" class=\"dataframe\">\n",
       "  <thead>\n",
       "    <tr style=\"text-align: right;\">\n",
       "      <th></th>\n",
       "      <th>prediction</th>\n",
       "      <th>actual</th>\n",
       "    </tr>\n",
       "  </thead>\n",
       "  <tbody>\n",
       "    <tr>\n",
       "      <th>673</th>\n",
       "      <td>0</td>\n",
       "      <td>0</td>\n",
       "    </tr>\n",
       "    <tr>\n",
       "      <th>674</th>\n",
       "      <td>0</td>\n",
       "      <td>0</td>\n",
       "    </tr>\n",
       "    <tr>\n",
       "      <th>675</th>\n",
       "      <td>0</td>\n",
       "      <td>0</td>\n",
       "    </tr>\n",
       "    <tr>\n",
       "      <th>676</th>\n",
       "      <td>0</td>\n",
       "      <td>0</td>\n",
       "    </tr>\n",
       "    <tr>\n",
       "      <th>677</th>\n",
       "      <td>0</td>\n",
       "      <td>0</td>\n",
       "    </tr>\n",
       "    <tr>\n",
       "      <th>...</th>\n",
       "      <td>...</td>\n",
       "      <td>...</td>\n",
       "    </tr>\n",
       "    <tr>\n",
       "      <th>743</th>\n",
       "      <td>0</td>\n",
       "      <td>0</td>\n",
       "    </tr>\n",
       "    <tr>\n",
       "      <th>744</th>\n",
       "      <td>0</td>\n",
       "      <td>0</td>\n",
       "    </tr>\n",
       "    <tr>\n",
       "      <th>745</th>\n",
       "      <td>0</td>\n",
       "      <td>0</td>\n",
       "    </tr>\n",
       "    <tr>\n",
       "      <th>746</th>\n",
       "      <td>0</td>\n",
       "      <td>0</td>\n",
       "    </tr>\n",
       "    <tr>\n",
       "      <th>747</th>\n",
       "      <td>0</td>\n",
       "      <td>0</td>\n",
       "    </tr>\n",
       "  </tbody>\n",
       "</table>\n",
       "<p>75 rows × 2 columns</p>\n",
       "</div>"
      ],
      "text/plain": [
       "     prediction  actual\n",
       "673           0       0\n",
       "674           0       0\n",
       "675           0       0\n",
       "676           0       0\n",
       "677           0       0\n",
       "..          ...     ...\n",
       "743           0       0\n",
       "744           0       0\n",
       "745           0       0\n",
       "746           0       0\n",
       "747           0       0\n",
       "\n",
       "[75 rows x 2 columns]"
      ]
     },
     "execution_count": 81,
     "metadata": {},
     "output_type": "execute_result"
    }
   ],
   "source": [
    "Naive_result9010 = {'prediction': y_pred9010,\n",
    "          'actual' : y_test9010}\n",
    "Naive_result9010= pd.DataFrame(Naive_result9010)\n",
    "Naive_result9010   "
   ]
  },
  {
   "cell_type": "code",
   "execution_count": 82,
   "id": "9320b3ee-4030-40b1-baa8-6e36e3acbb4c",
   "metadata": {},
   "outputs": [
    {
     "name": "stdout",
     "output_type": "stream",
     "text": [
      "Accuracy: 0.9333333333333333\n"
     ]
    }
   ],
   "source": [
    "from sklearn.metrics import accuracy_score, classification_report\n",
    "# Compare predicted labels with actual labels\n",
    "print(\"Accuracy:\", accuracy_score(y_test9010, y_pred9010))"
   ]
  },
  {
   "cell_type": "code",
   "execution_count": 84,
   "id": "787e9a4c-9696-47a3-bb61-8cea36c5caed",
   "metadata": {},
   "outputs": [],
   "source": [
    "# print(\"Classification Report:\\n\", classification_report(y_test9010, y_pred9010))"
   ]
  },
  {
   "cell_type": "code",
   "execution_count": null,
   "id": "ea7941fd-1f5d-4378-a511-a879f9892925",
   "metadata": {},
   "outputs": [],
   "source": []
  }
 ],
 "metadata": {
  "kernelspec": {
   "display_name": "Python 3 (ipykernel)",
   "language": "python",
   "name": "python3"
  },
  "language_info": {
   "codemirror_mode": {
    "name": "ipython",
    "version": 3
   },
   "file_extension": ".py",
   "mimetype": "text/x-python",
   "name": "python",
   "nbconvert_exporter": "python",
   "pygments_lexer": "ipython3",
   "version": "3.12.4"
  }
 },
 "nbformat": 4,
 "nbformat_minor": 5
}
