{
 "cells": [
  {
   "cell_type": "markdown",
   "id": "6b4a07cc",
   "metadata": {},
   "source": [
    "# Task 1: Get dataset on screen"
   ]
  },
  {
   "cell_type": "code",
   "execution_count": 2,
   "id": "c8b9b69c-d8db-43d0-9be6-181e6ea5299d",
   "metadata": {},
   "outputs": [
    {
     "ename": "NameError",
     "evalue": "name 'df' is not defined",
     "output_type": "error",
     "traceback": [
      "\u001b[0;31m---------------------------------------------------------------------------\u001b[0m",
      "\u001b[0;31mNameError\u001b[0m                                 Traceback (most recent call last)",
      "Cell \u001b[0;32mIn[2], line 12\u001b[0m\n\u001b[1;32m      9\u001b[0m data \u001b[38;5;241m=\u001b[39m pd\u001b[38;5;241m.\u001b[39mDataFrame(data\u001b[38;5;241m=\u001b[39mmydata)\n\u001b[1;32m     11\u001b[0m \u001b[38;5;66;03m# display the first 5 row of the dataset\u001b[39;00m\n\u001b[0;32m---> 12\u001b[0m \u001b[43mdf\u001b[49m\u001b[38;5;241m.\u001b[39mhead()\n",
      "\u001b[0;31mNameError\u001b[0m: name 'df' is not defined"
     ]
    }
   ],
   "source": [
    "import pandas as pd\n",
    "import plotly.express as px\n",
    "\n",
    "\n",
    "# import the dataset\n",
    "base='blood_transfusion.csv'\n",
    "mydata = pd.read_csv(base)\n",
    "# make dataset in pandas DataFrame\n",
    "data = pd.DataFrame(data=mydata)\n",
    "\n",
    "# display the first 5 row of the dataset\n",
    "df.head()\n"
   ]
  },
  {
   "cell_type": "markdown",
   "id": "53a9b079",
   "metadata": {},
   "source": [
    "## 1.2 Visualisation"
   ]
  },
  {
   "cell_type": "code",
   "execution_count": 3,
   "id": "9cb1aa16",
   "metadata": {},
   "outputs": [
    {
     "ename": "NameError",
     "evalue": "name 'df' is not defined",
     "output_type": "error",
     "traceback": [
      "\u001b[0;31m---------------------------------------------------------------------------\u001b[0m",
      "\u001b[0;31mNameError\u001b[0m                                 Traceback (most recent call last)",
      "Cell \u001b[0;32mIn[3], line 1\u001b[0m\n\u001b[0;32m----> 1\u001b[0m class_0 \u001b[38;5;241m=\u001b[39m \u001b[43mdf\u001b[49m[df[\u001b[38;5;124m'\u001b[39m\u001b[38;5;124mclass\u001b[39m\u001b[38;5;124m'\u001b[39m] \u001b[38;5;241m==\u001b[39m \u001b[38;5;241m0\u001b[39m]\n\u001b[1;32m      2\u001b[0m class_1 \u001b[38;5;241m=\u001b[39m df[df[\u001b[38;5;124m'\u001b[39m\u001b[38;5;124mclass\u001b[39m\u001b[38;5;124m'\u001b[39m] \u001b[38;5;241m==\u001b[39m \u001b[38;5;241m1\u001b[39m]\n\u001b[1;32m      4\u001b[0m data \u001b[38;5;241m=\u001b[39m {\n\u001b[1;32m      5\u001b[0m     \u001b[38;5;66;03m#\"Months Since Last Donation\": [class_0['months_since_last_donation'].mean(), class_1[\"months_since_last_donation\"].mean()],\u001b[39;00m\n\u001b[1;32m      6\u001b[0m     \u001b[38;5;66;03m#\"Total Number of Donations\": [class_0[\"total_number_of_donations\"].mean(), class_1[\"total_number_of_donations\"].mean()],\u001b[39;00m\n\u001b[1;32m      7\u001b[0m     \u001b[38;5;124m'\u001b[39m\u001b[38;5;124mTotal Blood Donated\u001b[39m\u001b[38;5;124m'\u001b[39m: [class_0[\u001b[38;5;124m'\u001b[39m\u001b[38;5;124mtotal_blood_donated\u001b[39m\u001b[38;5;124m'\u001b[39m]\u001b[38;5;241m.\u001b[39mmean(), class_1[\u001b[38;5;124m\"\u001b[39m\u001b[38;5;124mtotal_blood_donated\u001b[39m\u001b[38;5;124m\"\u001b[39m]\u001b[38;5;241m.\u001b[39mmean()],\n\u001b[1;32m      8\u001b[0m     \u001b[38;5;66;03m#'Months Since First Donation': [class_0['months_since_first_donation'].mean(), class_1[\"months_since_first_donation\"].mean()]\u001b[39;00m\n\u001b[1;32m      9\u001b[0m     }\n",
      "\u001b[0;31mNameError\u001b[0m: name 'df' is not defined"
     ]
    }
   ],
   "source": [
    "class_0 = df[df['class'] == 0]\n",
    "class_1 = df[df['class'] == 1]\n",
    "\n",
    "data = {\n",
    "    #\"Months Since Last Donation\": [class_0['months_since_last_donation'].mean(), class_1[\"months_since_last_donation\"].mean()],\n",
    "    #\"Total Number of Donations\": [class_0[\"total_number_of_donations\"].mean(), class_1[\"total_number_of_donations\"].mean()],\n",
    "    'Total Blood Donated': [class_0['total_blood_donated'].mean(), class_1[\"total_blood_donated\"].mean()],\n",
    "    #'Months Since First Donation': [class_0['months_since_first_donation'].mean(), class_1[\"months_since_first_donation\"].mean()]\n",
    "    }\n",
    "\n",
    "# Create a dataframe for comparison\n",
    "comparison_class = pd.DataFrame(data=data, index=[\"Class 0\", \"Class 1\"])\n",
    "\n",
    "# Melt dataframe\n",
    "comparison_class_melted = comparison_class.melt(var_name='Variable', value_name='Value', ignore_index=False)\n",
    "\n",
    "# Reset the index to include 'Class' as a column\n",
    "comparison_class_melted = comparison_class_melted.reset_index().rename(columns={'index': 'Class'})\n",
    "\n",
    "comparison_fig = px.bar(\n",
    "    data_frame=comparison_class_melted,\n",
    "    x=\"Variable\",\n",
    "    y=\"Value\",\n",
    "    color=\"Class\",\n",
    "    barmode=\"group\",\n",
    "    title = \"Class 0 compared to Class 1\",\n",
    "\n",
    "    color_discrete_map={\n",
    "        \"Class 0\": \"wheat\", \n",
    "        \"Class 1\": \"turquoise\"\n",
    "    }\n",
    "    )\n",
    "\n",
    "comparison_fig.update_layout(\n",
    "    xaxis=dict(tickfont=dict(family='Arial Black', size=14)),\n",
    "    yaxis=dict(tickfont=dict(family='Arial Black', size=14)),\n",
    "    xaxis_title = \"Characteristics\",\n",
    "    yaxis_title = \"Mean Value\"\n",
    "    )\n",
    "\n",
    "comparison_fig.show()\n",
    "\n",
    "\n",
    "\n"
   ]
  }
 ],
 "metadata": {
  "kernelspec": {
   "display_name": "Python 3",
   "language": "python",
   "name": "python3"
  },
  "language_info": {
   "codemirror_mode": {
    "name": "ipython",
    "version": 3
   },
   "file_extension": ".py",
   "mimetype": "text/x-python",
   "name": "python",
   "nbconvert_exporter": "python",
   "pygments_lexer": "ipython3",
   "version": "3.12.1"
  }
 },
 "nbformat": 4,
 "nbformat_minor": 5
}
