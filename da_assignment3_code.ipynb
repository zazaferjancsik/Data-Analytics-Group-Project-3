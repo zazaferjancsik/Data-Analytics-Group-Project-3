{
 "cells": [
  {
   "cell_type": "code",
   "execution_count": 20,
   "metadata": {},
   "outputs": [
    {
     "name": "stdout",
     "output_type": "stream",
     "text": [
      "Collecting scikit-learn\n",
      "  Downloading scikit_learn-1.5.2-cp312-cp312-macosx_10_9_x86_64.whl.metadata (13 kB)\n",
      "Requirement already satisfied: numpy>=1.19.5 in /Library/Frameworks/Python.framework/Versions/3.12/lib/python3.12/site-packages (from scikit-learn) (2.1.2)\n",
      "Requirement already satisfied: scipy>=1.6.0 in /Library/Frameworks/Python.framework/Versions/3.12/lib/python3.12/site-packages (from scikit-learn) (1.14.1)\n",
      "Collecting joblib>=1.2.0 (from scikit-learn)\n",
      "  Downloading joblib-1.4.2-py3-none-any.whl.metadata (5.4 kB)\n",
      "Collecting threadpoolctl>=3.1.0 (from scikit-learn)\n",
      "  Downloading threadpoolctl-3.5.0-py3-none-any.whl.metadata (13 kB)\n",
      "Downloading scikit_learn-1.5.2-cp312-cp312-macosx_10_9_x86_64.whl (12.1 MB)\n",
      "\u001b[2K   \u001b[90m━━━━━━━━━━━━━━━━━━━━━━━━━━━━━━━━━━━━━━━━\u001b[0m \u001b[32m12.1/12.1 MB\u001b[0m \u001b[31m25.4 MB/s\u001b[0m eta \u001b[36m0:00:00\u001b[0m00:01\u001b[0m0:01\u001b[0m\n",
      "\u001b[?25hDownloading joblib-1.4.2-py3-none-any.whl (301 kB)\n",
      "Downloading threadpoolctl-3.5.0-py3-none-any.whl (18 kB)\n",
      "Installing collected packages: threadpoolctl, joblib, scikit-learn\n",
      "Successfully installed joblib-1.4.2 scikit-learn-1.5.2 threadpoolctl-3.5.0\n"
     ]
    }
   ],
   "source": [
    "import sys\n",
    "!{sys.executable} -m pip install scikit-learn"
   ]
  },
  {
   "cell_type": "code",
   "execution_count": 186,
   "metadata": {},
   "outputs": [],
   "source": [
    "import pandas as pd\n",
    "import plotly.express as px\n",
    "import numpy as np\n",
    "import plotly.graph_objects as go\n",
    "import sklearn\n",
    "from sklearn.model_selection import train_test_split\n",
    "import math\n",
    "from collections import Counter\n",
    "from sklearn.naive_bayes import GaussianNB\n",
    "from sklearn.svm import SVC\n",
    "from sklearn.neural_network import MLPClassifier\n",
    "from sklearn.metrics import classification_report\n",
    "from sklearn.metrics import fbeta_score\n",
    "from sklearn.model_selection import KFold\n",
    "from sklearn.neighbors import KNeighborsClassifier\n"
   ]
  },
  {
   "cell_type": "code",
   "execution_count": 2,
   "metadata": {},
   "outputs": [
    {
     "data": {
      "text/html": [
       "<div>\n",
       "<style scoped>\n",
       "    .dataframe tbody tr th:only-of-type {\n",
       "        vertical-align: middle;\n",
       "    }\n",
       "\n",
       "    .dataframe tbody tr th {\n",
       "        vertical-align: top;\n",
       "    }\n",
       "\n",
       "    .dataframe thead th {\n",
       "        text-align: right;\n",
       "    }\n",
       "</style>\n",
       "<table border=\"1\" class=\"dataframe\">\n",
       "  <thead>\n",
       "    <tr style=\"text-align: right;\">\n",
       "      <th></th>\n",
       "      <th>months_since_last_donation</th>\n",
       "      <th>total_number_of_donations</th>\n",
       "      <th>total_blood_donated</th>\n",
       "      <th>months_since_first_donation</th>\n",
       "      <th>class</th>\n",
       "    </tr>\n",
       "  </thead>\n",
       "  <tbody>\n",
       "    <tr>\n",
       "      <th>count</th>\n",
       "      <td>748.000000</td>\n",
       "      <td>748.000000</td>\n",
       "      <td>748.000000</td>\n",
       "      <td>748.000000</td>\n",
       "      <td>748.000000</td>\n",
       "    </tr>\n",
       "    <tr>\n",
       "      <th>mean</th>\n",
       "      <td>9.506684</td>\n",
       "      <td>5.514706</td>\n",
       "      <td>1378.676471</td>\n",
       "      <td>34.282086</td>\n",
       "      <td>0.237968</td>\n",
       "    </tr>\n",
       "    <tr>\n",
       "      <th>std</th>\n",
       "      <td>8.095396</td>\n",
       "      <td>5.839307</td>\n",
       "      <td>1459.826781</td>\n",
       "      <td>24.376714</td>\n",
       "      <td>0.426124</td>\n",
       "    </tr>\n",
       "    <tr>\n",
       "      <th>min</th>\n",
       "      <td>0.000000</td>\n",
       "      <td>1.000000</td>\n",
       "      <td>250.000000</td>\n",
       "      <td>2.000000</td>\n",
       "      <td>0.000000</td>\n",
       "    </tr>\n",
       "    <tr>\n",
       "      <th>25%</th>\n",
       "      <td>2.750000</td>\n",
       "      <td>2.000000</td>\n",
       "      <td>500.000000</td>\n",
       "      <td>16.000000</td>\n",
       "      <td>0.000000</td>\n",
       "    </tr>\n",
       "    <tr>\n",
       "      <th>50%</th>\n",
       "      <td>7.000000</td>\n",
       "      <td>4.000000</td>\n",
       "      <td>1000.000000</td>\n",
       "      <td>28.000000</td>\n",
       "      <td>0.000000</td>\n",
       "    </tr>\n",
       "    <tr>\n",
       "      <th>75%</th>\n",
       "      <td>14.000000</td>\n",
       "      <td>7.000000</td>\n",
       "      <td>1750.000000</td>\n",
       "      <td>50.000000</td>\n",
       "      <td>0.000000</td>\n",
       "    </tr>\n",
       "    <tr>\n",
       "      <th>max</th>\n",
       "      <td>74.000000</td>\n",
       "      <td>50.000000</td>\n",
       "      <td>12500.000000</td>\n",
       "      <td>98.000000</td>\n",
       "      <td>1.000000</td>\n",
       "    </tr>\n",
       "  </tbody>\n",
       "</table>\n",
       "</div>"
      ],
      "text/plain": [
       "       months_since_last_donation  total_number_of_donations  \\\n",
       "count                  748.000000                 748.000000   \n",
       "mean                     9.506684                   5.514706   \n",
       "std                      8.095396                   5.839307   \n",
       "min                      0.000000                   1.000000   \n",
       "25%                      2.750000                   2.000000   \n",
       "50%                      7.000000                   4.000000   \n",
       "75%                     14.000000                   7.000000   \n",
       "max                     74.000000                  50.000000   \n",
       "\n",
       "       total_blood_donated  months_since_first_donation       class  \n",
       "count           748.000000                   748.000000  748.000000  \n",
       "mean           1378.676471                    34.282086    0.237968  \n",
       "std            1459.826781                    24.376714    0.426124  \n",
       "min             250.000000                     2.000000    0.000000  \n",
       "25%             500.000000                    16.000000    0.000000  \n",
       "50%            1000.000000                    28.000000    0.000000  \n",
       "75%            1750.000000                    50.000000    0.000000  \n",
       "max           12500.000000                    98.000000    1.000000  "
      ]
     },
     "execution_count": 2,
     "metadata": {},
     "output_type": "execute_result"
    }
   ],
   "source": [
    "bt_df = pd.read_csv(\"blood_transfusion.csv\")\n",
    "bt_df.describe()"
   ]
  },
  {
   "cell_type": "code",
   "execution_count": null,
   "metadata": {},
   "outputs": [],
   "source": [
    "months_since_last_donation_avg = np.zeros((75, 3))\n",
    "\n",
    "for i in range(len(months_since_last_donation_avg)):\n",
    "    months_since_last_donation_avg[i, 0] = i+1\n",
    "\n",
    "for index, row in bt_df.iterrows():\n",
    "    months_since_last_donation_avg[int(row[0]), 2] += 1\n",
    "    avg_class = (months_since_last_donation_avg[int(row[0]), 1] + row[4])/months_since_last_donation_avg[int(row[0]), 2]\n",
    "    months_since_last_donation_avg[int(row[0]), 1] = avg_class\n",
    "\n",
    "months_since_last_donation_fig = go.Figure()\n",
    "\n",
    "\n",
    "months_since_last_donation_fig.add_trace(go.Scatter(\n",
    "    x=months_since_last_donation_avg[:, 0], \n",
    "    y=months_since_last_donation_avg[:, 1],  \n",
    "    mode='lines+markers',  \n",
    "    name='Data Points'\n",
    "))\n",
    "\n",
    "months_since_last_donation_fig.update_layout(\n",
    "    title='Chances of coming back after last donation',\n",
    "    xaxis_title='Months passed since last donation',\n",
    "    yaxis_title='Chances of coming back',\n",
    "    xaxis=dict(range=[0, 30])\n",
    ")\n",
    "\n",
    "months_since_last_donation_fig.show()\n",
    "\n",
    "distribution_fig = go.Figure()\n",
    "\n",
    "for i in range(len(months_since_last_donation_avg)):\n",
    "    distribution_fig.add_trace(go.Bar(\n",
    "        x=months_since_last_donation_avg[:, 0],  \n",
    "        y=months_since_last_donation_avg[:, 2],  \n",
    "        marker = dict(color = 'red')\n",
    "    ))\n",
    "\n",
    "distribution_fig.update_layout(\n",
    "    xaxis=dict(range=[0, 30])\n",
    ")\n",
    "\n",
    "distribution_fig.show()\n"
   ]
  },
  {
   "cell_type": "code",
   "execution_count": null,
   "metadata": {},
   "outputs": [],
   "source": [
    "segments_df= np.array_split(bt_df, 15)\n",
    "\n",
    "class_distribution_fig = go.Figure()\n",
    "avg_class = np.zeros((15, 2))\n",
    "\n",
    "for i in range(len(segments_df)):\n",
    "    avg_class[i][1] = sum(split_df[i]['class'])/len(segments_df[i])\n",
    "    avg_class[i][0] = i+1\n",
    "\n",
    "class_distribution_fig = go.Figure()\n",
    "\n",
    "class_distribution_fig.add_trace(go.Scatter(\n",
    "    x=avg_class[:, 0],  \n",
    "    y=avg_class[:, 1],  \n",
    "    mode='lines+markers', \n",
    "    name='Data Points'\n",
    "))\n",
    "\n",
    "class_distribution_fig.update_layout(\n",
    "    title='Distribution of class variable across data',\n",
    "    xaxis_title='Segments of Data',\n",
    "    yaxis_title='Average Value of Class',\n",
    ")\n",
    "\n",
    "class_distribution_fig.show()"
   ]
  },
  {
   "cell_type": "markdown",
   "metadata": {},
   "source": [
    "Task 2: Data Preprocessing"
   ]
  },
  {
   "cell_type": "code",
   "execution_count": null,
   "metadata": {},
   "outputs": [],
   "source": [
    "# Data normalization\n",
    "\n",
    "def normalize(dataColumn):\n",
    "    min_value = min(dataColumn)\n",
    "    max_value = max(dataColumn)\n",
    "    \n",
    "    normalized_data = [(x-min_value)/(max_value - min_value) for x in dataColumn]\n",
    "\n",
    "    return normalized_data\n",
    "\n",
    "for i in bt_df.columns:\n",
    "    bt_df[i] = normalize(bt_df[i])\n",
    "\n",
    "bt_df.describe()"
   ]
  },
  {
   "cell_type": "markdown",
   "metadata": {},
   "source": [
    "Task 3: Creating a train and test set"
   ]
  },
  {
   "cell_type": "code",
   "execution_count": 179,
   "metadata": {},
   "outputs": [],
   "source": [
    "class_attribute = bt_df['class']\n",
    "variables = bt_df.drop(columns = [\"class\"])\n",
    "\n",
    "class_train8020, class_test8020, variables_train8020, variables_test8020= train_test_split(class_attribute, variables, test_size=0.2, train_size = 0.8)\n",
    "class_train9010, class_test9010, variables_train9010, variables_test9010= train_test_split(class_attribute, variables, test_size=0.1, train_size = 0.9)"
   ]
  },
  {
   "cell_type": "markdown",
   "metadata": {},
   "source": [
    "Task 4: Classification Algorithms"
   ]
  },
  {
   "cell_type": "code",
   "execution_count": null,
   "metadata": {},
   "outputs": [],
   "source": [
    "#4.1: Manual implementation of a KNN classifier algorithm\n",
    "\n",
    "def euclidean_distance(point1, point2):\n",
    "    distance = 0\n",
    "    for i in range(len(point1)):\n",
    "        distance += (point1[i] - point2[i]) ** 2\n",
    "    return math.sqrt(distance)\n",
    "\n",
    "def get_neighbors(training_set, labels, test_instance, k):\n",
    "    distances = []\n",
    "    for index in range(len(training_set)):\n",
    "        dist = euclidean_distance(test_instance, training_set[index])\n",
    "        distances.append((labels[index], dist))\n",
    "    \n",
    "    distances.sort(key=lambda x: x[1])\n",
    "    neighbors = distances[:k]\n",
    "    return [neighbor[0] for neighbor in neighbors]\n",
    "\n",
    "def predict_classification(training_set, labels, test_instance, k):\n",
    "    neighbors = get_neighbors(training_set, labels, test_instance, k)\n",
    "    count = Counter(neighbors) \n",
    "    prediction = count.most_common(1)[0][0]\n",
    "    return prediction\n",
    "\n",
    "def confusion_matrix(predicted, actual):\n",
    "    predicted = np.array(predicted)\n",
    "    actual = np.array(actual)\n",
    "\n",
    "    true_positive = np.sum((predicted == 1) & (actual == 1))\n",
    "    false_positive = np.sum((predicted == 1) & (actual == 0))\n",
    "\n",
    "    true_negative = np.sum((predicted == 0) & (actual == 0))\n",
    "    false_negative = np.sum((predicted == 1) & (actual == 0))\n",
    "\n",
    "    matrix_data = {'True positive': true_positive, 'False positive': false_positive, 'True negative': true_negative, 'False negative': false_negative}\n",
    "    confusion_table = pd.DataFrame(matrix_data, index=[0]) \n",
    "\n",
    "    return confusion_table\n",
    "\n",
    "def precision(predicted, actual):\n",
    "    \n",
    "    if (int(confusion_matrix(predicted,actual)['True positive']) + int(confusion_matrix(predicted,actual)['False positive'])) == 0:\n",
    "        return 0.0\n",
    "\n",
    "    precision = int(confusion_matrix(predicted,actual)['True positive']) / int((confusion_matrix(predicted,actual)['True positive']) + int(confusion_matrix(predicted,actual)['False positive']))\n",
    "    return precision\n",
    "\n",
    "def recall(predicted, actual):\n",
    "    if (int(confusion_matrix(predicted,actual)['True positive']) + int(confusion_matrix(predicted,actual)['False negative'])) == 0:\n",
    "        return 0.0\n",
    "\n",
    "    recall = int(confusion_matrix(predicted,actual)['True positive']) / (int(confusion_matrix(predicted,actual)['True positive']) + int(confusion_matrix(predicted,actual)['False negative']))\n",
    "    return recall\n",
    "\n",
    "knn8020_predicted = np.zeros(150)\n",
    "knn8020_correct= np.zeros(150)\n",
    "\n",
    "for i in range(len(knn8020_predicted)):\n",
    "    predicted_label = predict_classification(variables_train8020.to_numpy(), class_train8020.to_numpy(), variables_test8020.to_numpy()[i], 20)\n",
    "    knn8020_predicted[i] = predicted_label\n",
    "    knn8020_correct[i] = class_test8020.to_numpy()[i]\n",
    "    \n",
    "\n",
    "evaluater_data = {'Predicted Class': knn8020_predicted, 'Correct Class': knn8020_correct}\n",
    "knn8020_evaluater = pd.DataFrame(evaluater_data)\n",
    "\n",
    "print(confusion_matrix(knn8020_evaluater['Predicted Class'], knn8020_evaluater['Correct Class']))\n",
    "\n",
    "print(f'For a KNN Classifier with a 80-20 split, the precision is: {precision(knn8020_evaluater['Predicted Class'], knn8020_evaluater['Correct Class'])*100}% and the recall is: {recall(knn8020_evaluater['Predicted Class'], knn8020_evaluater['Correct Class'])*100}%')\n",
    "\n",
    "knn9010_predicted = np.zeros(75)\n",
    "knn9010_correct= np.zeros(75)\n",
    "\n",
    "for i in range(len(knn9010_predicted)):\n",
    "    predicted_label = predict_classification(variables_train9010.to_numpy(), class_train9010.to_numpy(), variables_test9010.to_numpy()[i], 20)\n",
    "    knn9010_predicted[i] = predicted_label\n",
    "    knn9010_correct[i] = class_test9010.to_numpy()[i]\n",
    "    \n",
    "\n",
    "evaluater_data = {'Predicted Class': knn9010_predicted, 'Correct Class': knn9010_correct}\n",
    "knn9010_evaluater = pd.DataFrame(evaluater_data)\n",
    "\n",
    "print(f'For a KNN Classifier with a 90-10 split, the precision is: {precision(knn9010_evaluater['Predicted Class'], knn9010_evaluater['Correct Class'])*100}% and the recall is: {recall(knn9010_evaluater['Predicted Class'], knn9010_evaluater['Correct Class'])*100}%')"
   ]
  },
  {
   "cell_type": "code",
   "execution_count": null,
   "metadata": {},
   "outputs": [],
   "source": [
    "#4.2: Naive Bayes Classifier\n",
    "\n",
    "nb8020_correct= np.zeros(150)\n",
    "\n",
    "nb_clf8020 = GaussianNB()\n",
    "nb_clf8020.fit(variables_train8020, class_train8020)\n",
    "\n",
    "for i in range(len(nb8020_correct)):\n",
    "    nb8020_correct[i] = class_test8020.to_numpy()[i]\n",
    "\n",
    "nb8020_predicted = nb_clf8020.predict(variables_test8020)\n",
    "\n",
    "evaluater_data = {'Predicted Class': nb8020_predicted, 'Correct Class': nb8020_correct}\n",
    "nb8020_evaluater = pd.DataFrame(evaluater_data)\n",
    "\n",
    "print(f'For a Naive Bayes Classifier with a 80-20 split, the precision is: {int(precision(nb8020_evaluater['Predicted Class'],\n",
    "    nb8020_evaluater['Correct Class'])*100)}% and the recall is: {int(recall(nb8020_evaluater['Predicted Class'], nb8020_evaluater['Correct Class'])*100)}%')\n",
    "\n",
    "nb9010_correct= np.zeros(75)\n",
    "\n",
    "nb_clf9010 = GaussianNB()\n",
    "nb_clf9010.fit(variables_train9010, class_train9010)\n",
    "\n",
    "for i in range(len(nb9010_correct)):\n",
    "    nb9010_correct[i] = class_test9010.to_numpy()[i]\n",
    "\n",
    "nb9010_predicted = nb_clf9010.predict(variables_test9010)\n",
    "\n",
    "evaluater_data = {'Predicted Class': nb9010_predicted, 'Correct Class': nb9010_correct}\n",
    "nb9010_evaluater = pd.DataFrame(evaluater_data)\n",
    "\n",
    "print(f'For a Naive Bayes Classifier with a 90-10 split, the precision is: {int(precision(nb9010_evaluater['Predicted Class'],\n",
    "    nb9010_evaluater['Correct Class'])*100)}% and the recall is: {int(recall(nb9010_evaluater['Predicted Class'], nb9010_evaluater['Correct Class'])*100)}%')\n"
   ]
  },
  {
   "cell_type": "code",
   "execution_count": null,
   "metadata": {},
   "outputs": [],
   "source": [
    "#4.3 Support Vector Classifier\n",
    "\n",
    "svc8020_correct= np.zeros(150)\n",
    "\n",
    "svc_clf8020 = SVC(gamma='auto')\n",
    "svc_clf8020.fit(variables_train8020, class_train8020)\n",
    "\n",
    "for i in range(len(svc8020_correct)):\n",
    "    svc8020_correct[i] = class_test8020.to_numpy()[i]\n",
    "\n",
    "svc8020_predicted = svc_clf8020.predict(variables_test8020)\n",
    "\n",
    "evaluater_data = {'Predicted Class': svc8020_predicted, 'Correct Class': svc8020_correct}\n",
    "svc8020_evaluater = pd.DataFrame(evaluater_data)\n",
    "\n",
    "print(f'For a Support Vector Classifier with a 80-20 split, the precision is: {int(precision(svc8020_evaluater['Predicted Class'],\n",
    "    svc8020_evaluater['Correct Class'])*100)}% and the recall is: {int(recall(svc8020_evaluater['Predicted Class'], svc8020_evaluater['Correct Class'])*100)}%')\n",
    "\n",
    "svc9010_correct= np.zeros(75)\n",
    "\n",
    "svc_clf9010 = SVC(gamma='auto')\n",
    "svc_clf9010.fit(variables_train9010, class_train9010)\n",
    "\n",
    "for i in range(len(svc9010_correct)):\n",
    "    svc9010_correct[i] = class_test9010.to_numpy()[i]\n",
    "\n",
    "svc9010_predicted = svc_clf9010.predict(variables_test9010)\n",
    "\n",
    "evaluater_data = {'Predicted Class': svc9010_predicted, 'Correct Class': svc9010_correct}\n",
    "svc9010_evaluater = pd.DataFrame(evaluater_data)\n",
    "\n",
    "print(f'For a Support Vector Classifier with a 90-10 split, the precision is: {int(precision(svc9010_evaluater['Predicted Class'],\n",
    "    svc9010_evaluater['Correct Class'])*100)}% and the recall is: {int(recall(svc9010_evaluater['Predicted Class'], svc9010_evaluater['Correct Class'])*100)}%')\n"
   ]
  },
  {
   "cell_type": "code",
   "execution_count": null,
   "metadata": {},
   "outputs": [],
   "source": [
    "#4.4 Multilayer Percetron (Neural Network) Classifier\n",
    "\n",
    "mlp8020_correct= np.zeros(150)\n",
    "\n",
    "mlp_clf8020 = MLPClassifier(max_iter=300)\n",
    "mlp_clf8020.fit(variables_train8020, class_train8020)\n",
    "\n",
    "for i in range(len(mlp8020_correct)):\n",
    "    mlp8020_correct[i] = class_test8020.to_numpy()[i]\n",
    "\n",
    "mlp8020_predicted = mlp_clf8020.predict(variables_test8020)\n",
    "\n",
    "evaluater_data = {'Predicted Class': mlp8020_predicted, 'Correct Class': mlp8020_correct}\n",
    "mlp8020_evaluater = pd.DataFrame(evaluater_data)\n",
    "\n",
    "print(f'For a Multilayer Perceptron Classifier with a 80-20 split, the precision is: {int(precision(mlp8020_evaluater['Predicted Class'],\n",
    "    mlp8020_evaluater['Correct Class'])*100)}% and the recall is: {int(recall(mlp8020_evaluater['Predicted Class'], mlp8020_evaluater['Correct Class'])*100)}%')\n",
    "\n",
    "mlp9010_correct= np.zeros(75)\n",
    "\n",
    "mlp_clf9010 = MLPClassifier(max_iter=300)\n",
    "mlp_clf9010.fit(variables_train9010, class_train9010)\n",
    "\n",
    "for i in range(len(mlp9010_correct)):\n",
    "    mlp9010_correct[i] = class_test9010.to_numpy()[i]\n",
    "\n",
    "mlp9010_predicted = mlp_clf9010.predict(variables_test9010)\n",
    "\n",
    "evaluater_data = {'Predicted Class': mlp9010_predicted, 'Correct Class': mlp9010_correct}\n",
    "mlp9010_evaluater = pd.DataFrame(evaluater_data)\n",
    "\n",
    "print(f'For a Multilayer Perceptron Classifier with a 90-10 split, the precision is: {int(precision(mlp9010_evaluater['Predicted Class'],\n",
    "    mlp9010_evaluater['Correct Class'])*100)}% and the recall is: {int(recall(mlp9010_evaluater['Predicted Class'], mlp9010_evaluater['Correct Class'])*100)}%')\n"
   ]
  },
  {
   "cell_type": "markdown",
   "metadata": {},
   "source": [
    "Task 5: Evaluation of classification methods"
   ]
  },
  {
   "cell_type": "code",
   "execution_count": 158,
   "metadata": {},
   "outputs": [],
   "source": [
    "#5.1 Manual implementation of confusion matrix\n",
    "\n",
    "#It was implemented in 4.1, under function confusion matrix"
   ]
  },
  {
   "cell_type": "code",
   "execution_count": null,
   "metadata": {},
   "outputs": [],
   "source": [
    "#5.2 Classification Report\n",
    "\n",
    "print(\"Classification Report of Naive Bayes Classifier with 80-20 split:\\n\", classification_report(nb8020_correct, nb8020_predicted))\n",
    "print(\"Classification Report of Naive Bayes Classifier with 90-10 split:\\n\", classification_report(nb9010_correct, nb9010_predicted, zero_division = 0))\n",
    "print(\"Classification Report of KNN Classifier with 80-20 split:\\n\", classification_report(knn8020_correct, knn8020_predicted))\n",
    "print(\"Classification Report of KNN Classifier with 90-10 split:\\n\", classification_report(knn9010_correct, knn9010_predicted, zero_division = 0))\n",
    "print(\"Classification Report of Support Vector Classifier with 80-20 split:\\n\", classification_report(svc8020_correct, svc8020_predicted))\n",
    "print(\"Classification Report of Support Vector Classifier with 90-10 split:\\n\", classification_report(svc9010_correct, svc9010_predicted, zero_division = 0))\n",
    "print(\"Classification Report of Multilayer Perceptron Classifier with 80-20 split:\\n\", classification_report(mlp8020_correct, mlp8020_predicted))\n",
    "print(\"Classification Report of Multilayer Perceptron Classifier with 90-10 split:\\n\", classification_report(mlp9010_correct, mlp9010_predicted, zero_division = 0))"
   ]
  },
  {
   "cell_type": "code",
   "execution_count": null,
   "metadata": {},
   "outputs": [],
   "source": [
    "#5.3 Fbeta Score\n",
    "\n",
    "print(\"Fbeta Score of Naive Bayes Classifier with 80-20 split:\", round(fbeta_score(nb8020_correct, nb8020_predicted, beta=1, average='micro'), 2))\n",
    "print(\"Fbeta Score of Naive Bayes Classifier with 90-10 split:\", round(fbeta_score(nb9010_correct, nb9010_predicted, zero_division = 0,beta=1, average='micro'), 2))\n",
    "print(\"Fbeta Score of KNN Classifier with 80-20 split:\", round(fbeta_score(knn8020_correct, knn8020_predicted,beta=1, average='micro'), 2))\n",
    "print(\"Fbeta Score of KNN Classifier with 90-10 split:\", round(fbeta_score(knn9010_correct, knn9010_predicted, zero_division = 0, beta=1, average='micro'), 2))\n",
    "print(\"Fbeta Score of Support Vector Classifier with 80-20 split:\", round(fbeta_score(svc8020_correct, svc8020_predicted, beta=1, average='micro'), 2))\n",
    "print(\"Fbeta Score of Support Vector Classifier with 90-10 split:\", round(fbeta_score(svc9010_correct, svc9010_predicted, zero_division = 0, beta=1, average='micro'), 2))\n",
    "print(\"Fbeta Score of Multilayer Perceptron Classifier with 80-20 split:\", round(fbeta_score(mlp8020_correct, mlp8020_predicted, beta=1, average='micro'), 2))\n",
    "print(\"Fbeta Score of Multilayer Perceptron Classifier with 90-10 split:\", round(fbeta_score(mlp9010_correct, mlp9010_predicted, zero_division = 0, beta=1, average='micro'), 2))"
   ]
  },
  {
   "cell_type": "markdown",
   "metadata": {},
   "source": [
    "Task 6: Cross - Validation"
   ]
  },
  {
   "cell_type": "code",
   "execution_count": 240,
   "metadata": {},
   "outputs": [
    {
     "name": "stdout",
     "output_type": "stream",
     "text": [
      "The optimal nummber of neighbors in a KNN classifier for this dataset is: 21, with a F-Score of: 0.8007\n"
     ]
    }
   ],
   "source": [
    "#Finding Optimap Parameter for KNN\n",
    "\n",
    "kf5 = KFold(n_splits=5, shuffle=True)\n",
    "\n",
    "class_attribute = bt_df['class']\n",
    "variables = bt_df.drop(columns = [\"class\"])\n",
    "\n",
    "best_score = [0,0]\n",
    "\n",
    "for neighbors in range(1, 25):\n",
    "    mean_score = []\n",
    "    for train_index, test_index in kf5.split(bt_df):\n",
    "        X_train, X_test = variables.iloc[train_index], variables.iloc[test_index]\n",
    "        y_train, y_test = class_attribute.iloc[train_index], class_attribute.iloc[test_index]\n",
    "        \n",
    "        knn_clf5 = KNeighborsClassifier(n_neighbors=neighbors)\n",
    "        knn_clf5.fit(X_train, y_train)\n",
    "        \n",
    "        predictions = knn_clf5.predict(X_test)\n",
    "\n",
    "        mean_score.append(fbeta_score(y_test, predictions, beta=1, average='micro'))\n",
    "\n",
    "    if np.mean(mean_score) > best_score[0]:\n",
    "        best_score[0] = np.mean(mean_score)\n",
    "        best_score[1] = neighbors\n",
    "\n",
    "print(f'The optimal nummber of neighbors in a KNN classifier for this dataset is: {best_score[1]}, with a F-Score of: {round(best_score[0], 4)}')\n",
    "    \n"
   ]
  },
  {
   "cell_type": "code",
   "execution_count": 241,
   "metadata": {},
   "outputs": [
    {
     "data": {
      "application/vnd.plotly.v1+json": {
       "config": {
        "plotlyServerURL": "https://plot.ly"
       },
       "data": [
        {
         "marker": {
          "color": "blue",
          "opacity": 0.7
         },
         "name": "F Score",
         "type": "bar",
         "x": [
          "Fold 1",
          "Fold 2",
          "Fold 3",
          "Fold 4",
          "Fold 5"
         ],
         "y": [
          0.8,
          0.82,
          0.8066666666666666,
          0.7718120805369127,
          0.8053691275167785
         ]
        },
        {
         "line": {
          "color": "red",
          "dash": "dash"
         },
         "mode": "lines",
         "name": "Mean F Score:0.8007",
         "type": "scatter",
         "x": [
          "Fold 1",
          "Fold 2",
          "Fold 3",
          "Fold 4",
          "Fold 5"
         ],
         "y": [
          0.8007695749440715,
          0.8007695749440715,
          0.8007695749440715,
          0.8007695749440715,
          0.8007695749440715
         ]
        }
       ],
       "layout": {
        "template": {
         "data": {
          "bar": [
           {
            "error_x": {
             "color": "#2a3f5f"
            },
            "error_y": {
             "color": "#2a3f5f"
            },
            "marker": {
             "line": {
              "color": "#E5ECF6",
              "width": 0.5
             },
             "pattern": {
              "fillmode": "overlay",
              "size": 10,
              "solidity": 0.2
             }
            },
            "type": "bar"
           }
          ],
          "barpolar": [
           {
            "marker": {
             "line": {
              "color": "#E5ECF6",
              "width": 0.5
             },
             "pattern": {
              "fillmode": "overlay",
              "size": 10,
              "solidity": 0.2
             }
            },
            "type": "barpolar"
           }
          ],
          "carpet": [
           {
            "aaxis": {
             "endlinecolor": "#2a3f5f",
             "gridcolor": "white",
             "linecolor": "white",
             "minorgridcolor": "white",
             "startlinecolor": "#2a3f5f"
            },
            "baxis": {
             "endlinecolor": "#2a3f5f",
             "gridcolor": "white",
             "linecolor": "white",
             "minorgridcolor": "white",
             "startlinecolor": "#2a3f5f"
            },
            "type": "carpet"
           }
          ],
          "choropleth": [
           {
            "colorbar": {
             "outlinewidth": 0,
             "ticks": ""
            },
            "type": "choropleth"
           }
          ],
          "contour": [
           {
            "colorbar": {
             "outlinewidth": 0,
             "ticks": ""
            },
            "colorscale": [
             [
              0,
              "#0d0887"
             ],
             [
              0.1111111111111111,
              "#46039f"
             ],
             [
              0.2222222222222222,
              "#7201a8"
             ],
             [
              0.3333333333333333,
              "#9c179e"
             ],
             [
              0.4444444444444444,
              "#bd3786"
             ],
             [
              0.5555555555555556,
              "#d8576b"
             ],
             [
              0.6666666666666666,
              "#ed7953"
             ],
             [
              0.7777777777777778,
              "#fb9f3a"
             ],
             [
              0.8888888888888888,
              "#fdca26"
             ],
             [
              1,
              "#f0f921"
             ]
            ],
            "type": "contour"
           }
          ],
          "contourcarpet": [
           {
            "colorbar": {
             "outlinewidth": 0,
             "ticks": ""
            },
            "type": "contourcarpet"
           }
          ],
          "heatmap": [
           {
            "colorbar": {
             "outlinewidth": 0,
             "ticks": ""
            },
            "colorscale": [
             [
              0,
              "#0d0887"
             ],
             [
              0.1111111111111111,
              "#46039f"
             ],
             [
              0.2222222222222222,
              "#7201a8"
             ],
             [
              0.3333333333333333,
              "#9c179e"
             ],
             [
              0.4444444444444444,
              "#bd3786"
             ],
             [
              0.5555555555555556,
              "#d8576b"
             ],
             [
              0.6666666666666666,
              "#ed7953"
             ],
             [
              0.7777777777777778,
              "#fb9f3a"
             ],
             [
              0.8888888888888888,
              "#fdca26"
             ],
             [
              1,
              "#f0f921"
             ]
            ],
            "type": "heatmap"
           }
          ],
          "heatmapgl": [
           {
            "colorbar": {
             "outlinewidth": 0,
             "ticks": ""
            },
            "colorscale": [
             [
              0,
              "#0d0887"
             ],
             [
              0.1111111111111111,
              "#46039f"
             ],
             [
              0.2222222222222222,
              "#7201a8"
             ],
             [
              0.3333333333333333,
              "#9c179e"
             ],
             [
              0.4444444444444444,
              "#bd3786"
             ],
             [
              0.5555555555555556,
              "#d8576b"
             ],
             [
              0.6666666666666666,
              "#ed7953"
             ],
             [
              0.7777777777777778,
              "#fb9f3a"
             ],
             [
              0.8888888888888888,
              "#fdca26"
             ],
             [
              1,
              "#f0f921"
             ]
            ],
            "type": "heatmapgl"
           }
          ],
          "histogram": [
           {
            "marker": {
             "pattern": {
              "fillmode": "overlay",
              "size": 10,
              "solidity": 0.2
             }
            },
            "type": "histogram"
           }
          ],
          "histogram2d": [
           {
            "colorbar": {
             "outlinewidth": 0,
             "ticks": ""
            },
            "colorscale": [
             [
              0,
              "#0d0887"
             ],
             [
              0.1111111111111111,
              "#46039f"
             ],
             [
              0.2222222222222222,
              "#7201a8"
             ],
             [
              0.3333333333333333,
              "#9c179e"
             ],
             [
              0.4444444444444444,
              "#bd3786"
             ],
             [
              0.5555555555555556,
              "#d8576b"
             ],
             [
              0.6666666666666666,
              "#ed7953"
             ],
             [
              0.7777777777777778,
              "#fb9f3a"
             ],
             [
              0.8888888888888888,
              "#fdca26"
             ],
             [
              1,
              "#f0f921"
             ]
            ],
            "type": "histogram2d"
           }
          ],
          "histogram2dcontour": [
           {
            "colorbar": {
             "outlinewidth": 0,
             "ticks": ""
            },
            "colorscale": [
             [
              0,
              "#0d0887"
             ],
             [
              0.1111111111111111,
              "#46039f"
             ],
             [
              0.2222222222222222,
              "#7201a8"
             ],
             [
              0.3333333333333333,
              "#9c179e"
             ],
             [
              0.4444444444444444,
              "#bd3786"
             ],
             [
              0.5555555555555556,
              "#d8576b"
             ],
             [
              0.6666666666666666,
              "#ed7953"
             ],
             [
              0.7777777777777778,
              "#fb9f3a"
             ],
             [
              0.8888888888888888,
              "#fdca26"
             ],
             [
              1,
              "#f0f921"
             ]
            ],
            "type": "histogram2dcontour"
           }
          ],
          "mesh3d": [
           {
            "colorbar": {
             "outlinewidth": 0,
             "ticks": ""
            },
            "type": "mesh3d"
           }
          ],
          "parcoords": [
           {
            "line": {
             "colorbar": {
              "outlinewidth": 0,
              "ticks": ""
             }
            },
            "type": "parcoords"
           }
          ],
          "pie": [
           {
            "automargin": true,
            "type": "pie"
           }
          ],
          "scatter": [
           {
            "fillpattern": {
             "fillmode": "overlay",
             "size": 10,
             "solidity": 0.2
            },
            "type": "scatter"
           }
          ],
          "scatter3d": [
           {
            "line": {
             "colorbar": {
              "outlinewidth": 0,
              "ticks": ""
             }
            },
            "marker": {
             "colorbar": {
              "outlinewidth": 0,
              "ticks": ""
             }
            },
            "type": "scatter3d"
           }
          ],
          "scattercarpet": [
           {
            "marker": {
             "colorbar": {
              "outlinewidth": 0,
              "ticks": ""
             }
            },
            "type": "scattercarpet"
           }
          ],
          "scattergeo": [
           {
            "marker": {
             "colorbar": {
              "outlinewidth": 0,
              "ticks": ""
             }
            },
            "type": "scattergeo"
           }
          ],
          "scattergl": [
           {
            "marker": {
             "colorbar": {
              "outlinewidth": 0,
              "ticks": ""
             }
            },
            "type": "scattergl"
           }
          ],
          "scattermapbox": [
           {
            "marker": {
             "colorbar": {
              "outlinewidth": 0,
              "ticks": ""
             }
            },
            "type": "scattermapbox"
           }
          ],
          "scatterpolar": [
           {
            "marker": {
             "colorbar": {
              "outlinewidth": 0,
              "ticks": ""
             }
            },
            "type": "scatterpolar"
           }
          ],
          "scatterpolargl": [
           {
            "marker": {
             "colorbar": {
              "outlinewidth": 0,
              "ticks": ""
             }
            },
            "type": "scatterpolargl"
           }
          ],
          "scatterternary": [
           {
            "marker": {
             "colorbar": {
              "outlinewidth": 0,
              "ticks": ""
             }
            },
            "type": "scatterternary"
           }
          ],
          "surface": [
           {
            "colorbar": {
             "outlinewidth": 0,
             "ticks": ""
            },
            "colorscale": [
             [
              0,
              "#0d0887"
             ],
             [
              0.1111111111111111,
              "#46039f"
             ],
             [
              0.2222222222222222,
              "#7201a8"
             ],
             [
              0.3333333333333333,
              "#9c179e"
             ],
             [
              0.4444444444444444,
              "#bd3786"
             ],
             [
              0.5555555555555556,
              "#d8576b"
             ],
             [
              0.6666666666666666,
              "#ed7953"
             ],
             [
              0.7777777777777778,
              "#fb9f3a"
             ],
             [
              0.8888888888888888,
              "#fdca26"
             ],
             [
              1,
              "#f0f921"
             ]
            ],
            "type": "surface"
           }
          ],
          "table": [
           {
            "cells": {
             "fill": {
              "color": "#EBF0F8"
             },
             "line": {
              "color": "white"
             }
            },
            "header": {
             "fill": {
              "color": "#C8D4E3"
             },
             "line": {
              "color": "white"
             }
            },
            "type": "table"
           }
          ]
         },
         "layout": {
          "annotationdefaults": {
           "arrowcolor": "#2a3f5f",
           "arrowhead": 0,
           "arrowwidth": 1
          },
          "autotypenumbers": "strict",
          "coloraxis": {
           "colorbar": {
            "outlinewidth": 0,
            "ticks": ""
           }
          },
          "colorscale": {
           "diverging": [
            [
             0,
             "#8e0152"
            ],
            [
             0.1,
             "#c51b7d"
            ],
            [
             0.2,
             "#de77ae"
            ],
            [
             0.3,
             "#f1b6da"
            ],
            [
             0.4,
             "#fde0ef"
            ],
            [
             0.5,
             "#f7f7f7"
            ],
            [
             0.6,
             "#e6f5d0"
            ],
            [
             0.7,
             "#b8e186"
            ],
            [
             0.8,
             "#7fbc41"
            ],
            [
             0.9,
             "#4d9221"
            ],
            [
             1,
             "#276419"
            ]
           ],
           "sequential": [
            [
             0,
             "#0d0887"
            ],
            [
             0.1111111111111111,
             "#46039f"
            ],
            [
             0.2222222222222222,
             "#7201a8"
            ],
            [
             0.3333333333333333,
             "#9c179e"
            ],
            [
             0.4444444444444444,
             "#bd3786"
            ],
            [
             0.5555555555555556,
             "#d8576b"
            ],
            [
             0.6666666666666666,
             "#ed7953"
            ],
            [
             0.7777777777777778,
             "#fb9f3a"
            ],
            [
             0.8888888888888888,
             "#fdca26"
            ],
            [
             1,
             "#f0f921"
            ]
           ],
           "sequentialminus": [
            [
             0,
             "#0d0887"
            ],
            [
             0.1111111111111111,
             "#46039f"
            ],
            [
             0.2222222222222222,
             "#7201a8"
            ],
            [
             0.3333333333333333,
             "#9c179e"
            ],
            [
             0.4444444444444444,
             "#bd3786"
            ],
            [
             0.5555555555555556,
             "#d8576b"
            ],
            [
             0.6666666666666666,
             "#ed7953"
            ],
            [
             0.7777777777777778,
             "#fb9f3a"
            ],
            [
             0.8888888888888888,
             "#fdca26"
            ],
            [
             1,
             "#f0f921"
            ]
           ]
          },
          "colorway": [
           "#636efa",
           "#EF553B",
           "#00cc96",
           "#ab63fa",
           "#FFA15A",
           "#19d3f3",
           "#FF6692",
           "#B6E880",
           "#FF97FF",
           "#FECB52"
          ],
          "font": {
           "color": "#2a3f5f"
          },
          "geo": {
           "bgcolor": "white",
           "lakecolor": "white",
           "landcolor": "#E5ECF6",
           "showlakes": true,
           "showland": true,
           "subunitcolor": "white"
          },
          "hoverlabel": {
           "align": "left"
          },
          "hovermode": "closest",
          "mapbox": {
           "style": "light"
          },
          "paper_bgcolor": "white",
          "plot_bgcolor": "#E5ECF6",
          "polar": {
           "angularaxis": {
            "gridcolor": "white",
            "linecolor": "white",
            "ticks": ""
           },
           "bgcolor": "#E5ECF6",
           "radialaxis": {
            "gridcolor": "white",
            "linecolor": "white",
            "ticks": ""
           }
          },
          "scene": {
           "xaxis": {
            "backgroundcolor": "#E5ECF6",
            "gridcolor": "white",
            "gridwidth": 2,
            "linecolor": "white",
            "showbackground": true,
            "ticks": "",
            "zerolinecolor": "white"
           },
           "yaxis": {
            "backgroundcolor": "#E5ECF6",
            "gridcolor": "white",
            "gridwidth": 2,
            "linecolor": "white",
            "showbackground": true,
            "ticks": "",
            "zerolinecolor": "white"
           },
           "zaxis": {
            "backgroundcolor": "#E5ECF6",
            "gridcolor": "white",
            "gridwidth": 2,
            "linecolor": "white",
            "showbackground": true,
            "ticks": "",
            "zerolinecolor": "white"
           }
          },
          "shapedefaults": {
           "line": {
            "color": "#2a3f5f"
           }
          },
          "ternary": {
           "aaxis": {
            "gridcolor": "white",
            "linecolor": "white",
            "ticks": ""
           },
           "baxis": {
            "gridcolor": "white",
            "linecolor": "white",
            "ticks": ""
           },
           "bgcolor": "#E5ECF6",
           "caxis": {
            "gridcolor": "white",
            "linecolor": "white",
            "ticks": ""
           }
          },
          "title": {
           "x": 0.05
          },
          "xaxis": {
           "automargin": true,
           "gridcolor": "white",
           "linecolor": "white",
           "ticks": "",
           "title": {
            "standoff": 15
           },
           "zerolinecolor": "white",
           "zerolinewidth": 2
          },
          "yaxis": {
           "automargin": true,
           "gridcolor": "white",
           "linecolor": "white",
           "ticks": "",
           "title": {
            "standoff": 15
           },
           "zerolinecolor": "white",
           "zerolinewidth": 2
          }
         }
        },
        "title": {
         "text": "K-Fold Cross-Validation F Scores"
        },
        "xaxis": {
         "title": {
          "text": "Cross-Validation Folds"
         }
        },
        "yaxis": {
         "range": [
          0,
          1
         ],
         "title": {
          "text": "F Score"
         }
        }
       }
      }
     },
     "metadata": {},
     "output_type": "display_data"
    }
   ],
   "source": [
    "#Render Evaluation Scores Plot\n",
    "\n",
    "fold_indices = []\n",
    "score = []\n",
    "\n",
    "for fold, (train_index, test_index) in enumerate(kf5.split(bt_df)):\n",
    "        X_train, X_test = variables.iloc[train_index], variables.iloc[test_index]\n",
    "        y_train, y_test = class_attribute.iloc[train_index], class_attribute.iloc[test_index]\n",
    "        \n",
    "        knn_clf5 = KNeighborsClassifier(n_neighbors=best_score[1])\n",
    "        knn_clf5.fit(X_train, y_train)\n",
    "        \n",
    "        predictions = knn_clf5.predict(X_test)\n",
    "\n",
    "        score.append(fbeta_score(y_test, predictions, beta=1, average='micro'))\n",
    "        fold_indices.append(f'Fold {fold + 1}')\n",
    "\n",
    "mean_score = np.mean(score)\n",
    "\n",
    "kfold_fig = go.Figure(data=[\n",
    "    go.Bar(\n",
    "        x=fold_indices,\n",
    "        y=score,\n",
    "        name='F Score',\n",
    "        marker=dict(color='blue', opacity=0.7),\n",
    "    )\n",
    "])\n",
    "\n",
    "kfold_fig.add_trace(go.Scatter(\n",
    "    x=fold_indices,\n",
    "    y=[mean_score] * len(fold_indices),\n",
    "    mode='lines',\n",
    "    name= f'Mean F Score:{round(best_score[0], 4)}',\n",
    "    line=dict(color='red', dash='dash')\n",
    "))\n",
    "\n",
    "\n",
    "kfold_fig.update_layout(\n",
    "    title='K-Fold Cross-Validation F Scores',\n",
    "    xaxis_title='Cross-Validation Folds',\n",
    "    yaxis_title='F Score',\n",
    "    yaxis=dict(range=[0, 1]) \n",
    ")\n",
    "\n",
    "kfold_fig.show()"
   ]
  },
  {
   "cell_type": "code",
   "execution_count": 243,
   "metadata": {},
   "outputs": [
    {
     "name": "stdout",
     "output_type": "stream",
     "text": [
      "0.8007695749440715\n",
      "[['80-20 Split', '90-10 Split', 'Optimized KFold Model'], [np.float64(0.8007695749440715), np.float64(0.7933333333333333), np.float64(0.8133333333333334)]]\n"
     ]
    },
    {
     "data": {
      "application/vnd.plotly.v1+json": {
       "config": {
        "plotlyServerURL": "https://plot.ly"
       },
       "data": [
        {
         "marker": {
          "color": "blue",
          "opacity": 0.7
         },
         "name": "F Score",
         "type": "bar",
         "x": [
          "80-20 Split",
          "90-10 Split",
          "Optimized KFold Model"
         ],
         "y": [
          0.8007695749440715,
          0.7933333333333333,
          0.8133333333333334
         ]
        }
       ],
       "layout": {
        "template": {
         "data": {
          "bar": [
           {
            "error_x": {
             "color": "#2a3f5f"
            },
            "error_y": {
             "color": "#2a3f5f"
            },
            "marker": {
             "line": {
              "color": "#E5ECF6",
              "width": 0.5
             },
             "pattern": {
              "fillmode": "overlay",
              "size": 10,
              "solidity": 0.2
             }
            },
            "type": "bar"
           }
          ],
          "barpolar": [
           {
            "marker": {
             "line": {
              "color": "#E5ECF6",
              "width": 0.5
             },
             "pattern": {
              "fillmode": "overlay",
              "size": 10,
              "solidity": 0.2
             }
            },
            "type": "barpolar"
           }
          ],
          "carpet": [
           {
            "aaxis": {
             "endlinecolor": "#2a3f5f",
             "gridcolor": "white",
             "linecolor": "white",
             "minorgridcolor": "white",
             "startlinecolor": "#2a3f5f"
            },
            "baxis": {
             "endlinecolor": "#2a3f5f",
             "gridcolor": "white",
             "linecolor": "white",
             "minorgridcolor": "white",
             "startlinecolor": "#2a3f5f"
            },
            "type": "carpet"
           }
          ],
          "choropleth": [
           {
            "colorbar": {
             "outlinewidth": 0,
             "ticks": ""
            },
            "type": "choropleth"
           }
          ],
          "contour": [
           {
            "colorbar": {
             "outlinewidth": 0,
             "ticks": ""
            },
            "colorscale": [
             [
              0,
              "#0d0887"
             ],
             [
              0.1111111111111111,
              "#46039f"
             ],
             [
              0.2222222222222222,
              "#7201a8"
             ],
             [
              0.3333333333333333,
              "#9c179e"
             ],
             [
              0.4444444444444444,
              "#bd3786"
             ],
             [
              0.5555555555555556,
              "#d8576b"
             ],
             [
              0.6666666666666666,
              "#ed7953"
             ],
             [
              0.7777777777777778,
              "#fb9f3a"
             ],
             [
              0.8888888888888888,
              "#fdca26"
             ],
             [
              1,
              "#f0f921"
             ]
            ],
            "type": "contour"
           }
          ],
          "contourcarpet": [
           {
            "colorbar": {
             "outlinewidth": 0,
             "ticks": ""
            },
            "type": "contourcarpet"
           }
          ],
          "heatmap": [
           {
            "colorbar": {
             "outlinewidth": 0,
             "ticks": ""
            },
            "colorscale": [
             [
              0,
              "#0d0887"
             ],
             [
              0.1111111111111111,
              "#46039f"
             ],
             [
              0.2222222222222222,
              "#7201a8"
             ],
             [
              0.3333333333333333,
              "#9c179e"
             ],
             [
              0.4444444444444444,
              "#bd3786"
             ],
             [
              0.5555555555555556,
              "#d8576b"
             ],
             [
              0.6666666666666666,
              "#ed7953"
             ],
             [
              0.7777777777777778,
              "#fb9f3a"
             ],
             [
              0.8888888888888888,
              "#fdca26"
             ],
             [
              1,
              "#f0f921"
             ]
            ],
            "type": "heatmap"
           }
          ],
          "heatmapgl": [
           {
            "colorbar": {
             "outlinewidth": 0,
             "ticks": ""
            },
            "colorscale": [
             [
              0,
              "#0d0887"
             ],
             [
              0.1111111111111111,
              "#46039f"
             ],
             [
              0.2222222222222222,
              "#7201a8"
             ],
             [
              0.3333333333333333,
              "#9c179e"
             ],
             [
              0.4444444444444444,
              "#bd3786"
             ],
             [
              0.5555555555555556,
              "#d8576b"
             ],
             [
              0.6666666666666666,
              "#ed7953"
             ],
             [
              0.7777777777777778,
              "#fb9f3a"
             ],
             [
              0.8888888888888888,
              "#fdca26"
             ],
             [
              1,
              "#f0f921"
             ]
            ],
            "type": "heatmapgl"
           }
          ],
          "histogram": [
           {
            "marker": {
             "pattern": {
              "fillmode": "overlay",
              "size": 10,
              "solidity": 0.2
             }
            },
            "type": "histogram"
           }
          ],
          "histogram2d": [
           {
            "colorbar": {
             "outlinewidth": 0,
             "ticks": ""
            },
            "colorscale": [
             [
              0,
              "#0d0887"
             ],
             [
              0.1111111111111111,
              "#46039f"
             ],
             [
              0.2222222222222222,
              "#7201a8"
             ],
             [
              0.3333333333333333,
              "#9c179e"
             ],
             [
              0.4444444444444444,
              "#bd3786"
             ],
             [
              0.5555555555555556,
              "#d8576b"
             ],
             [
              0.6666666666666666,
              "#ed7953"
             ],
             [
              0.7777777777777778,
              "#fb9f3a"
             ],
             [
              0.8888888888888888,
              "#fdca26"
             ],
             [
              1,
              "#f0f921"
             ]
            ],
            "type": "histogram2d"
           }
          ],
          "histogram2dcontour": [
           {
            "colorbar": {
             "outlinewidth": 0,
             "ticks": ""
            },
            "colorscale": [
             [
              0,
              "#0d0887"
             ],
             [
              0.1111111111111111,
              "#46039f"
             ],
             [
              0.2222222222222222,
              "#7201a8"
             ],
             [
              0.3333333333333333,
              "#9c179e"
             ],
             [
              0.4444444444444444,
              "#bd3786"
             ],
             [
              0.5555555555555556,
              "#d8576b"
             ],
             [
              0.6666666666666666,
              "#ed7953"
             ],
             [
              0.7777777777777778,
              "#fb9f3a"
             ],
             [
              0.8888888888888888,
              "#fdca26"
             ],
             [
              1,
              "#f0f921"
             ]
            ],
            "type": "histogram2dcontour"
           }
          ],
          "mesh3d": [
           {
            "colorbar": {
             "outlinewidth": 0,
             "ticks": ""
            },
            "type": "mesh3d"
           }
          ],
          "parcoords": [
           {
            "line": {
             "colorbar": {
              "outlinewidth": 0,
              "ticks": ""
             }
            },
            "type": "parcoords"
           }
          ],
          "pie": [
           {
            "automargin": true,
            "type": "pie"
           }
          ],
          "scatter": [
           {
            "fillpattern": {
             "fillmode": "overlay",
             "size": 10,
             "solidity": 0.2
            },
            "type": "scatter"
           }
          ],
          "scatter3d": [
           {
            "line": {
             "colorbar": {
              "outlinewidth": 0,
              "ticks": ""
             }
            },
            "marker": {
             "colorbar": {
              "outlinewidth": 0,
              "ticks": ""
             }
            },
            "type": "scatter3d"
           }
          ],
          "scattercarpet": [
           {
            "marker": {
             "colorbar": {
              "outlinewidth": 0,
              "ticks": ""
             }
            },
            "type": "scattercarpet"
           }
          ],
          "scattergeo": [
           {
            "marker": {
             "colorbar": {
              "outlinewidth": 0,
              "ticks": ""
             }
            },
            "type": "scattergeo"
           }
          ],
          "scattergl": [
           {
            "marker": {
             "colorbar": {
              "outlinewidth": 0,
              "ticks": ""
             }
            },
            "type": "scattergl"
           }
          ],
          "scattermapbox": [
           {
            "marker": {
             "colorbar": {
              "outlinewidth": 0,
              "ticks": ""
             }
            },
            "type": "scattermapbox"
           }
          ],
          "scatterpolar": [
           {
            "marker": {
             "colorbar": {
              "outlinewidth": 0,
              "ticks": ""
             }
            },
            "type": "scatterpolar"
           }
          ],
          "scatterpolargl": [
           {
            "marker": {
             "colorbar": {
              "outlinewidth": 0,
              "ticks": ""
             }
            },
            "type": "scatterpolargl"
           }
          ],
          "scatterternary": [
           {
            "marker": {
             "colorbar": {
              "outlinewidth": 0,
              "ticks": ""
             }
            },
            "type": "scatterternary"
           }
          ],
          "surface": [
           {
            "colorbar": {
             "outlinewidth": 0,
             "ticks": ""
            },
            "colorscale": [
             [
              0,
              "#0d0887"
             ],
             [
              0.1111111111111111,
              "#46039f"
             ],
             [
              0.2222222222222222,
              "#7201a8"
             ],
             [
              0.3333333333333333,
              "#9c179e"
             ],
             [
              0.4444444444444444,
              "#bd3786"
             ],
             [
              0.5555555555555556,
              "#d8576b"
             ],
             [
              0.6666666666666666,
              "#ed7953"
             ],
             [
              0.7777777777777778,
              "#fb9f3a"
             ],
             [
              0.8888888888888888,
              "#fdca26"
             ],
             [
              1,
              "#f0f921"
             ]
            ],
            "type": "surface"
           }
          ],
          "table": [
           {
            "cells": {
             "fill": {
              "color": "#EBF0F8"
             },
             "line": {
              "color": "white"
             }
            },
            "header": {
             "fill": {
              "color": "#C8D4E3"
             },
             "line": {
              "color": "white"
             }
            },
            "type": "table"
           }
          ]
         },
         "layout": {
          "annotationdefaults": {
           "arrowcolor": "#2a3f5f",
           "arrowhead": 0,
           "arrowwidth": 1
          },
          "autotypenumbers": "strict",
          "coloraxis": {
           "colorbar": {
            "outlinewidth": 0,
            "ticks": ""
           }
          },
          "colorscale": {
           "diverging": [
            [
             0,
             "#8e0152"
            ],
            [
             0.1,
             "#c51b7d"
            ],
            [
             0.2,
             "#de77ae"
            ],
            [
             0.3,
             "#f1b6da"
            ],
            [
             0.4,
             "#fde0ef"
            ],
            [
             0.5,
             "#f7f7f7"
            ],
            [
             0.6,
             "#e6f5d0"
            ],
            [
             0.7,
             "#b8e186"
            ],
            [
             0.8,
             "#7fbc41"
            ],
            [
             0.9,
             "#4d9221"
            ],
            [
             1,
             "#276419"
            ]
           ],
           "sequential": [
            [
             0,
             "#0d0887"
            ],
            [
             0.1111111111111111,
             "#46039f"
            ],
            [
             0.2222222222222222,
             "#7201a8"
            ],
            [
             0.3333333333333333,
             "#9c179e"
            ],
            [
             0.4444444444444444,
             "#bd3786"
            ],
            [
             0.5555555555555556,
             "#d8576b"
            ],
            [
             0.6666666666666666,
             "#ed7953"
            ],
            [
             0.7777777777777778,
             "#fb9f3a"
            ],
            [
             0.8888888888888888,
             "#fdca26"
            ],
            [
             1,
             "#f0f921"
            ]
           ],
           "sequentialminus": [
            [
             0,
             "#0d0887"
            ],
            [
             0.1111111111111111,
             "#46039f"
            ],
            [
             0.2222222222222222,
             "#7201a8"
            ],
            [
             0.3333333333333333,
             "#9c179e"
            ],
            [
             0.4444444444444444,
             "#bd3786"
            ],
            [
             0.5555555555555556,
             "#d8576b"
            ],
            [
             0.6666666666666666,
             "#ed7953"
            ],
            [
             0.7777777777777778,
             "#fb9f3a"
            ],
            [
             0.8888888888888888,
             "#fdca26"
            ],
            [
             1,
             "#f0f921"
            ]
           ]
          },
          "colorway": [
           "#636efa",
           "#EF553B",
           "#00cc96",
           "#ab63fa",
           "#FFA15A",
           "#19d3f3",
           "#FF6692",
           "#B6E880",
           "#FF97FF",
           "#FECB52"
          ],
          "font": {
           "color": "#2a3f5f"
          },
          "geo": {
           "bgcolor": "white",
           "lakecolor": "white",
           "landcolor": "#E5ECF6",
           "showlakes": true,
           "showland": true,
           "subunitcolor": "white"
          },
          "hoverlabel": {
           "align": "left"
          },
          "hovermode": "closest",
          "mapbox": {
           "style": "light"
          },
          "paper_bgcolor": "white",
          "plot_bgcolor": "#E5ECF6",
          "polar": {
           "angularaxis": {
            "gridcolor": "white",
            "linecolor": "white",
            "ticks": ""
           },
           "bgcolor": "#E5ECF6",
           "radialaxis": {
            "gridcolor": "white",
            "linecolor": "white",
            "ticks": ""
           }
          },
          "scene": {
           "xaxis": {
            "backgroundcolor": "#E5ECF6",
            "gridcolor": "white",
            "gridwidth": 2,
            "linecolor": "white",
            "showbackground": true,
            "ticks": "",
            "zerolinecolor": "white"
           },
           "yaxis": {
            "backgroundcolor": "#E5ECF6",
            "gridcolor": "white",
            "gridwidth": 2,
            "linecolor": "white",
            "showbackground": true,
            "ticks": "",
            "zerolinecolor": "white"
           },
           "zaxis": {
            "backgroundcolor": "#E5ECF6",
            "gridcolor": "white",
            "gridwidth": 2,
            "linecolor": "white",
            "showbackground": true,
            "ticks": "",
            "zerolinecolor": "white"
           }
          },
          "shapedefaults": {
           "line": {
            "color": "#2a3f5f"
           }
          },
          "ternary": {
           "aaxis": {
            "gridcolor": "white",
            "linecolor": "white",
            "ticks": ""
           },
           "baxis": {
            "gridcolor": "white",
            "linecolor": "white",
            "ticks": ""
           },
           "bgcolor": "#E5ECF6",
           "caxis": {
            "gridcolor": "white",
            "linecolor": "white",
            "ticks": ""
           }
          },
          "title": {
           "x": 0.05
          },
          "xaxis": {
           "automargin": true,
           "gridcolor": "white",
           "linecolor": "white",
           "ticks": "",
           "title": {
            "standoff": 15
           },
           "zerolinecolor": "white",
           "zerolinewidth": 2
          },
          "yaxis": {
           "automargin": true,
           "gridcolor": "white",
           "linecolor": "white",
           "ticks": "",
           "title": {
            "standoff": 15
           },
           "zerolinecolor": "white",
           "zerolinewidth": 2
          }
         }
        },
        "title": {
         "text": "Comparing KFold Model with simple KNN Models"
        },
        "xaxis": {
         "title": {
          "text": "KNN Models"
         }
        },
        "yaxis": {
         "range": [
          0,
          1
         ],
         "title": {
          "text": "F Score"
         }
        }
       }
      }
     },
     "metadata": {},
     "output_type": "display_data"
    }
   ],
   "source": [
    "'''\n",
    "Compare Cross-Validation with No Cross-Validation\n",
    "Train Classifier Without Cross-Validation: Train the classifier once on the entire training dataset without cross-validation to establish a benchmark score.\n",
    "\n",
    "Render Comparison Plot: Create plots to visually compare the performance (e.g., using accuracy or other relevant metrics) between:\n",
    "\n",
    "The scores from K-Fold cross-validation.\n",
    "The score from the model trained without cross-validation.\n",
    "'''\n",
    "knn8020_correct= np.zeros(150)\n",
    "\n",
    "knn_clf8020 = KNeighborsClassifier(n_neighbors=9)\n",
    "knn_clf8020.fit(variables_train8020, class_train8020)\n",
    "\n",
    "for i in range(len(knn8020_correct)):\n",
    "    knn8020_correct[i] = class_test8020.to_numpy()[i]\n",
    "\n",
    "knn8020_predicted = knn_clf8020.predict(variables_test8020)\n",
    "\n",
    "knn9010_correct= np.zeros(75)\n",
    "\n",
    "knn_clf9010 = KNeighborsClassifier(n_neighbors=9)\n",
    "knn_clf9010.fit(variables_train9010, class_train9010)\n",
    "\n",
    "for i in range(len(knn9010_correct)):\n",
    "    knn9010_correct[i] = class_test9010.to_numpy()[i]\n",
    "\n",
    "knn9010_predicted = knn_clf9010.predict(variables_test9010)\n",
    "\n",
    "score_comparison = [['80-20 Split', '90-10 Split', 'Optimized KFold Model'], [mean_score, fbeta_score(knn8020_correct, knn8020_predicted,beta=1, average='micro'), fbeta_score(knn9010_correct, knn9010_predicted,beta=1, average='micro')],]\n",
    "\n",
    "kfold_fig = go.Figure(data=[\n",
    "    go.Bar(\n",
    "        x=score_comparison[0],\n",
    "        y=score_comparison[1],\n",
    "        name='F Score',\n",
    "        marker=dict(color='blue', opacity=0.7),\n",
    "    )\n",
    "])\n",
    "\n",
    "kfold_fig.update_layout(\n",
    "    title='Comparing KFold Model with simple KNN Models',\n",
    "    xaxis_title='KNN Models',\n",
    "    yaxis_title='F Score',\n",
    "    yaxis=dict(range=[0, 1]) \n",
    ")\n",
    "\n",
    "kfold_fig.show()"
   ]
  }
 ],
 "metadata": {
  "kernelspec": {
   "display_name": "Python 3",
   "language": "python",
   "name": "python3"
  },
  "language_info": {
   "codemirror_mode": {
    "name": "ipython",
    "version": 3
   },
   "file_extension": ".py",
   "mimetype": "text/x-python",
   "name": "python",
   "nbconvert_exporter": "python",
   "pygments_lexer": "ipython3",
   "version": "3.12.7"
  }
 },
 "nbformat": 4,
 "nbformat_minor": 2
}
